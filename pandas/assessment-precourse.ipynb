{
 "cells": [
  {
   "cell_type": "markdown",
   "metadata": {},
   "source": [
    "# Precourse assessment - Python\n",
    "\n",
    "Welcome to the pre-course assessment. This assessment is going to be used to determine your strengths and weaknesses to help us optimize your learning experience.\n",
    "\n",
    "It should take less than 120 minutes to complete the entire assessment, after which you will upload this Jupyter notebook to a drive so that your work can be assessed. \n",
    "\n",
    "Time: 120 minutes, Open book, Individual\n",
    "\n",
    "## Python version\n",
    "Take this assessment in **Python 3**.  To check which version of Python is installed natively, type `python --version` in the terminal.  If it's Python 2, activate the Python 3 environment you made in the Precourse.\n",
    "\n",
    "```\n",
    "source activate py3\n",
    "```\n",
    "\n",
    "If you're running Anaconda's distribution of Python 2 natively and haven't made this environment before, it's easy to do though the download takes a few minutes.  In a terminal type:\n",
    "\n",
    "```\n",
    "conda create -n py3 python=3 anaconda\n",
    "```\n",
    "\n",
    "Create the Python 3 environment **only if you do not have Python 3** installed.\n",
    "\n",
    "## Jupyter\n",
    "\n",
    "This assessment is in a Jupyter notebook.  Jupyter notebooks are a way to mix interactive Python with prose as expressed using Markdown. They are also both very powerful and an industry standard so practice with them is useful.\n",
    "\n",
    "An in-depth understanding of Jupyter notebooks is not necessary for this assessment.  You will only need to use the ```run``` button in the above toolbar.  Each block of code or prose is known as a **cell** and you may run the code in a cell using the ```run``` button or alternatively by holding ```shift+enter```.  If you are interested here are some resources to help you better understand this computing environment.\n",
    "\n",
    "* http://jupyter.readthedocs.io/en/latest/\n",
    "* https://jupyter-notebook-beginner-guide.readthedocs.io/en/latest/\n",
    "* https://jupyter.brynmawr.edu/services/public/dblank/Jupyter%20Notebook%20Users%20Manual.ipynb\n",
    "\n"
   ]
  },
  {
   "cell_type": "markdown",
   "metadata": {},
   "source": [
    "## How to answer the questions\n",
    "\n",
    "There are two ways to answer questions:  \n",
    "\n",
    "1. code completion - replace the word 'pass' with Python code that satisfies the intention of the [docstring](http://www.pythonforbeginners.com/basics/python-docstrings).\n",
    "2. form response - replace `None` with your response using the ```answer``` function\n",
    "\n",
    "The next few cells demonstrate how to answer these two types of questions.\n",
    "\n",
    "Important: there are comments within this notebook that help match questions and responses.  They appear in the following format.\n",
    "\n",
    "```\n",
    "#<<p1.1>>\n",
    "```\n",
    "\n",
    "**Please do not move or modify comments formatted in this way**"
   ]
  },
  {
   "cell_type": "code",
   "execution_count": 8,
   "metadata": {},
   "outputs": [],
   "source": [
    "## imports (do not remove)\n",
    "from pprint import pprint\n",
    "answer = pprint"
   ]
  },
  {
   "cell_type": "markdown",
   "metadata": {},
   "source": [
    "### Example response to code completion\n",
    "\n",
    "NOTE: These responses must have a ```return``` statement.  Code completion questions are graded on a scale of 0-3 so show your work if you want partial credit."
   ]
  },
  {
   "cell_type": "code",
   "execution_count": 68,
   "metadata": {},
   "outputs": [
    {
     "name": "stdout",
     "output_type": "stream",
     "text": [
      "49\n"
     ]
    }
   ],
   "source": [
    "#<<ex.1>>\n",
    "## example code completion \n",
    "def example_code_completion(string):\n",
    "    '''\n",
    "    INPUT: STRING\n",
    "    OUTPUT: INT\n",
    "    return the number of elements in a string squared\n",
    "    '''\n",
    "    pass\n",
    "\n",
    "## you do not need to re-write the function just replace the 'pass' with code\n",
    "\n",
    "def example_code_completion(string):\n",
    "    '''\n",
    "    INPUT: STRING\n",
    "    OUTPUT: INT\n",
    "    return the number of elements in a string squared\n",
    "    '''\n",
    "    \n",
    "    return(len(string)**2)\n",
    "\n",
    "## it is good practice to test your function\n",
    "print(example_code_completion(\"foo-bar\"))"
   ]
  },
  {
   "cell_type": "markdown",
   "metadata": {},
   "source": [
    "### Example form response \n",
    "\n",
    "Note: that if the answer requires multiple parts you may wrap your response in an iterable like a list."
   ]
  },
  {
   "cell_type": "markdown",
   "metadata": {},
   "source": [
    "Which one or more of the following  **are not** examples of reptiles?\n",
    "\n",
    "  * (a) ball python\n",
    "  * (b) tiger salamander \n",
    "  * (c) tuatara\n",
    "  * (d) glass lizard\n",
    "  * (e) black-capped chickadee\n"
   ]
  },
  {
   "cell_type": "code",
   "execution_count": 81,
   "metadata": {},
   "outputs": [
    {
     "name": "stdout",
     "output_type": "stream",
     "text": [
      "'e'\n",
      "['b', 'e']\n"
     ]
    }
   ],
   "source": [
    "#<<ex.1>>\n",
    "\n",
    "# you could answer this question with a single answer\n",
    "answer('e')\n",
    "\n",
    "# or with multiple answers\n",
    "answer(['b','e'])"
   ]
  },
  {
   "cell_type": "markdown",
   "metadata": {},
   "source": [
    "## Python Assessment\n",
    "\n",
    "This is where the assessment begins.  There are 11 questions---good luck!"
   ]
  },
  {
   "cell_type": "markdown",
   "metadata": {},
   "source": [
    "### Question 1\n",
    "\n",
    "Which one or more of the following  **are not** an example of a native or built-in datatype in Python?\n",
    "\n",
    "  * (a) booleans\n",
    "  * (b) integers \n",
    "  * (c) floats \n",
    "  * (d) heaps\n",
    "  * (e) strings\n",
    "  * (f) varchar\n"
   ]
  },
  {
   "cell_type": "code",
   "execution_count": 2,
   "metadata": {},
   "outputs": [
    {
     "ename": "NameError",
     "evalue": "name 'answer' is not defined",
     "output_type": "error",
     "traceback": [
      "\u001b[0;31m---------------------------------------------------------------------------\u001b[0m",
      "\u001b[0;31mNameError\u001b[0m                                 Traceback (most recent call last)",
      "\u001b[0;32m<ipython-input-2-71003c76c25f>\u001b[0m in \u001b[0;36m<module>\u001b[0;34m()\u001b[0m\n\u001b[1;32m      1\u001b[0m \u001b[0;31m#<<p1.1>>\u001b[0m\u001b[0;34m\u001b[0m\u001b[0;34m\u001b[0m\u001b[0m\n\u001b[0;32m----> 2\u001b[0;31m \u001b[0manswer\u001b[0m\u001b[0;34m(\u001b[0m\u001b[0;34m[\u001b[0m\u001b[0;34m'd'\u001b[0m\u001b[0;34m,\u001b[0m\u001b[0;34m'f'\u001b[0m\u001b[0;34m]\u001b[0m\u001b[0;34m)\u001b[0m\u001b[0;34m\u001b[0m\u001b[0m\n\u001b[0m",
      "\u001b[0;31mNameError\u001b[0m: name 'answer' is not defined"
     ]
    }
   ],
   "source": [
    "#<<p1.1>>\n",
    "answer(['d','f'])"
   ]
  },
  {
   "cell_type": "markdown",
   "metadata": {},
   "source": [
    "### Question 2\n",
    "\n",
    "Mutable data types/collections in Python can be changed in place. Immutable ones can not change in place.  Which of the following are **immutable**?\n",
    "\n",
    "  * (a) bool\n",
    "  * (b) int\n",
    "  * (c) float\n",
    "  * (d) set\n",
    "  * (e) list \n",
    "  * (f) str\n",
    "  * (g) tuple\n"
   ]
  },
  {
   "cell_type": "code",
   "execution_count": 11,
   "metadata": {},
   "outputs": [
    {
     "ename": "NameError",
     "evalue": "name 'answer' is not defined",
     "output_type": "error",
     "traceback": [
      "\u001b[0;31m---------------------------------------------------------------------------\u001b[0m",
      "\u001b[0;31mNameError\u001b[0m                                 Traceback (most recent call last)",
      "\u001b[0;32m<ipython-input-11-16283de405b2>\u001b[0m in \u001b[0;36m<module>\u001b[0;34m()\u001b[0m\n\u001b[1;32m      1\u001b[0m \u001b[0;31m#<<p1.2>>\u001b[0m\u001b[0;34m\u001b[0m\u001b[0;34m\u001b[0m\u001b[0m\n\u001b[0;32m----> 2\u001b[0;31m \u001b[0manswer\u001b[0m\u001b[0;34m(\u001b[0m\u001b[0;34m[\u001b[0m\u001b[0;34m'a'\u001b[0m\u001b[0;34m,\u001b[0m\u001b[0;34m'b'\u001b[0m\u001b[0;34m,\u001b[0m\u001b[0;34m'c'\u001b[0m\u001b[0;34m,\u001b[0m\u001b[0;34m'f'\u001b[0m\u001b[0;34m,\u001b[0m\u001b[0;34m'g'\u001b[0m\u001b[0;34m]\u001b[0m\u001b[0;34m)\u001b[0m\u001b[0;34m\u001b[0m\u001b[0m\n\u001b[0m",
      "\u001b[0;31mNameError\u001b[0m: name 'answer' is not defined"
     ]
    }
   ],
   "source": [
    "#<<p1.2>>\n",
    "answer(['a','b','c','f','g'])"
   ]
  },
  {
   "cell_type": "markdown",
   "metadata": {},
   "source": [
    "### Question 3\n",
    "\n",
    "Return the squared values for even numbers in a list"
   ]
  },
  {
   "cell_type": "code",
   "execution_count": 1,
   "metadata": {},
   "outputs": [
    {
     "name": "stdout",
     "output_type": "stream",
     "text": [
      "[4, 16]\n"
     ]
    }
   ],
   "source": [
    "#<<p1.3>>\n",
    "\n",
    "def get_squared_evens(lst):\n",
    "    lst = list(lst)\n",
    "    result = []\n",
    "    for x in lst:\n",
    "        if x % 2 == 0 and x > 0:\n",
    "            result.append(x ** 2)\n",
    "    return result\n",
    "\n",
    "## tests\n",
    "print(get_squared_evens(range(5)))"
   ]
  },
  {
   "cell_type": "markdown",
   "metadata": {},
   "source": [
    "### Question 4\n",
    "\n",
    "Create a dictionary from two input lists, where the first list is used as the keys"
   ]
  },
  {
   "cell_type": "code",
   "execution_count": 3,
   "metadata": {},
   "outputs": [
    {
     "name": "stdout",
     "output_type": "stream",
     "text": [
      "{'a': 1, 'b': 2, 'c': 3}\n"
     ]
    }
   ],
   "source": [
    "#<<p1.4>>\n",
    "\n",
    "def make_dict(lst1,lst2):\n",
    "    dictionary = dict(zip(lst1,lst2))\n",
    "    return dictionary\n",
    "\n",
    "## tests\n",
    "print(make_dict([\"a\",\"b\",\"c\"],[1,2,3]))"
   ]
  },
  {
   "cell_type": "markdown",
   "metadata": {},
   "source": [
    "### Question 5\n",
    "\n",
    "Which of one or more of the following statements is false?\n",
    "\n",
    "  * (a) Python's ecosystem includes classic numerical computing tools, state-of-the art plotting libraries and numerous data processing tools\n",
    "  * (b) Python is easy to learn and many motivated individuals without formal computer science training pick up Python.\n",
    "  * (c) Python encourages from scratch implementations of algorithms and discourages code re-useability   \n",
    "  * (d) Python syntax is simple, avoiding strange symbols and other syntax that would distract the reader from the mathematical or scientific understanding\n",
    "  * (e) Python aims for quick development times and quick execution times"
   ]
  },
  {
   "cell_type": "code",
   "execution_count": 13,
   "metadata": {
    "scrolled": true
   },
   "outputs": [
    {
     "ename": "TypeError",
     "evalue": "'tuple' object is not callable",
     "output_type": "error",
     "traceback": [
      "\u001b[0;31m---------------------------------------------------------------------------\u001b[0m",
      "\u001b[0;31mTypeError\u001b[0m                                 Traceback (most recent call last)",
      "\u001b[0;32m<ipython-input-13-23ae5d7104fb>\u001b[0m in \u001b[0;36m<module>\u001b[0;34m()\u001b[0m\n\u001b[1;32m      1\u001b[0m \u001b[0;31m#<<p1.5>>\u001b[0m\u001b[0;34m\u001b[0m\u001b[0;34m\u001b[0m\u001b[0m\n\u001b[0;32m----> 2\u001b[0;31m \u001b[0manswer\u001b[0m\u001b[0;34m(\u001b[0m\u001b[0;34m'a'\u001b[0m\u001b[0;34m,\u001b[0m\u001b[0;34m'b'\u001b[0m\u001b[0;34m,\u001b[0m\u001b[0;34m'd'\u001b[0m\u001b[0;34m,\u001b[0m\u001b[0;34m'e'\u001b[0m\u001b[0;34m)\u001b[0m\u001b[0;34m\u001b[0m\u001b[0m\n\u001b[0m",
      "\u001b[0;31mTypeError\u001b[0m: 'tuple' object is not callable"
     ]
    }
   ],
   "source": [
    "#<<p1.5>>\n",
    "answer('a','b','d','e')"
   ]
  },
  {
   "cell_type": "markdown",
   "metadata": {},
   "source": [
    "### Question 6\n",
    "\n",
    "given a list of numbers return a new list based on multiples of those numbers"
   ]
  },
  {
   "cell_type": "code",
   "execution_count": 4,
   "metadata": {},
   "outputs": [
    {
     "name": "stdout",
     "output_type": "stream",
     "text": [
      "[1, 2, 'cat', 4, 'horse', 'cat', 7, 8, 'cat', 'horse', 11, 'cat', 13, 14, 'cat-horse']\n"
     ]
    }
   ],
   "source": [
    "#<<p1.6>>\n",
    "\n",
    "def cat_horse(lst):\n",
    "    lst = list(lst)\n",
    "    result = []\n",
    "    for x in lst:\n",
    "        if x % 3 == 0 and x % 5 == 0:\n",
    "            result.append('cat-horse')\n",
    "        elif x % 3 == 0:\n",
    "            result.append('cat')\n",
    "        elif x % 5 == 0:\n",
    "            result.append('horse')\n",
    "        else:\n",
    "            result.append(x)\n",
    "    return result\n",
    "\n",
    "    \n",
    "\n",
    "## tests\n",
    "print(cat_horse(range(1,16)))"
   ]
  },
  {
   "cell_type": "markdown",
   "metadata": {},
   "source": [
    "### Question 7\n",
    "\n",
    "Python is a general-purpose language, but which (1 or more) of the following ideas is not realistic with Python?\n",
    "\n",
    "Python make it easy to:\n",
    "\n",
    "  * (a) interactively work to test and understand algorithms\n",
    "  * (b) to prototype and explore data using Ipython and Jupyter notebooks \n",
    "  * (c) carry out unit testing   \n",
    "  * (d) include comments/pseudocode to better organize code\n",
    "  * (e) save files with an editor then subsequently execute them from the terminal\n",
    "  * (f) naturally parallelizes across cores and machines with little to no overhead\n",
    "  * (g) save multiple functions in a file then import those functions from a different file"
   ]
  },
  {
   "cell_type": "code",
   "execution_count": 16,
   "metadata": {},
   "outputs": [
    {
     "ename": "TypeError",
     "evalue": "'tuple' object is not callable",
     "output_type": "error",
     "traceback": [
      "\u001b[0;31m---------------------------------------------------------------------------\u001b[0m",
      "\u001b[0;31mTypeError\u001b[0m                                 Traceback (most recent call last)",
      "\u001b[0;32m<ipython-input-16-bf7499a4b2fc>\u001b[0m in \u001b[0;36m<module>\u001b[0;34m()\u001b[0m\n\u001b[1;32m      1\u001b[0m \u001b[0;31m#<<p1.7>>\u001b[0m\u001b[0;34m\u001b[0m\u001b[0;34m\u001b[0m\u001b[0m\n\u001b[0;32m----> 2\u001b[0;31m \u001b[0mprint\u001b[0m\u001b[0;34m(\u001b[0m\u001b[0manswer\u001b[0m\u001b[0;34m(\u001b[0m\u001b[0;34m'f'\u001b[0m\u001b[0;34m)\u001b[0m\u001b[0;34m)\u001b[0m\u001b[0;34m\u001b[0m\u001b[0m\n\u001b[0m",
      "\u001b[0;31mTypeError\u001b[0m: 'tuple' object is not callable"
     ]
    }
   ],
   "source": [
    "#<<p1.7>>\n",
    "answer('f')"
   ]
  },
  {
   "cell_type": "markdown",
   "metadata": {},
   "source": [
    "### Question 8\n",
    "\n",
    "Create a function that returns the character counts associated given a string "
   ]
  },
  {
   "cell_type": "code",
   "execution_count": 5,
   "metadata": {},
   "outputs": [
    {
     "name": "stdout",
     "output_type": "stream",
     "text": [
      "{'a': 3, 'b': 3, 'c': 3, 'd': 1}\n"
     ]
    }
   ],
   "source": [
    "#<<p1.8>>\n",
    "def count_characters(string):\n",
    "    unique = list(set(string))\n",
    "    letters = []\n",
    "    counts = []\n",
    "    for x in unique:\n",
    "        letters.append(x)\n",
    "        counts.append(string.count(x))\n",
    "    return dict(zip(letters, counts))\n",
    "        \n",
    "\n",
    "## tests\n",
    "print(count_characters(\"aaabbbcccd\"))"
   ]
  },
  {
   "cell_type": "markdown",
   "metadata": {},
   "source": [
    "### Question 9\n",
    "\n",
    "Create a function that will invert a dictionary"
   ]
  },
  {
   "cell_type": "code",
   "execution_count": 10,
   "metadata": {},
   "outputs": [
    {
     "name": "stdout",
     "output_type": "stream",
     "text": [
      "{1: 'd', 2: 'c', 3: 'b', 4: 'a'}\n"
     ]
    }
   ],
   "source": [
    "#<<p1.9>>\n",
    "\n",
    "def invert_dictionary(d):\n",
    "    result = {}\n",
    "    \n",
    "    for k,v in d.items():\n",
    "        if d[k] in result:\n",
    "            result[v]=result[v],k\n",
    "        else:\n",
    "            result[v]=k\n",
    "    return result\n",
    "    \n",
    "## tests\n",
    "d = {\"a\": 4, \"b\": 3, \"c\": 2, \"d\": 1}\n",
    "print(invert_dictionary(d))"
   ]
  },
  {
   "cell_type": "markdown",
   "metadata": {},
   "source": [
    "### Question 10\n",
    "\n",
    "Write a function that characterizes a string by words and by characters"
   ]
  },
  {
   "cell_type": "code",
   "execution_count": 7,
   "metadata": {},
   "outputs": [
    {
     "name": "stdout",
     "output_type": "stream",
     "text": [
      "(53, 10, 42)\n"
     ]
    }
   ],
   "source": [
    "#<<p1.10>>\n",
    "\n",
    "def character_word_count(sentence):\n",
    "\n",
    "    characters = len(sentence)\n",
    "    word_split = len(list(sentence.split(' ')))\n",
    "    sentence_nospace=sentence\n",
    "    for char in sentence_nospace:\n",
    "        if char in (' ','.',',','?','!'):\n",
    "            sentence_nospace=sentence_nospace.replace(char,'')\n",
    "    char_all_words = len(sentence_nospace)\n",
    "    result = characters, word_split, char_all_words\n",
    "    return result\n",
    "\n",
    "## tests\n",
    "print(character_word_count(\"\\nThere are loads of ways to think about strings. No?\\n\"))"
   ]
  },
  {
   "cell_type": "markdown",
   "metadata": {},
   "source": [
    "### Question 11\n",
    "\n",
    "Perform matrix multiplication on a square matrix.  This is how it works---code the pattern.\n",
    "\n",
    "$$\n",
    "  \\begin{pmatrix}\n",
    "  a & b \\\\\n",
    "  c & d \\\\\n",
    "  \\end{pmatrix}\n",
    "  \\times \n",
    "  \\begin{pmatrix}\n",
    "  e & f \\\\\n",
    "  g & h \\\\\n",
    "  \\end{pmatrix}\n",
    "  =\n",
    "  \\begin{pmatrix}\n",
    "  ae+bg & af+bh \\\\\n",
    "  ce+dg & cf+dh \\\\\n",
    "  \\end{pmatrix}\n",
    "$$\n"
   ]
  },
  {
   "cell_type": "code",
   "execution_count": 9,
   "metadata": {},
   "outputs": [
    {
     "name": "stdout",
     "output_type": "stream",
     "text": [
      "[[-5, 15, 20], [20, 0, 20], [-22, 9, 3]]\n"
     ]
    }
   ],
   "source": [
    "#<<p1.11>>\n",
    "\n",
    "def matrix_multiplication(A, B):\n",
    "    \n",
    "    result = [[0]*len(A) for x in range(len(A))]\n",
    "    for x in range(len(A)):\n",
    "        result[x].append\n",
    "    for i in range (len(A)):\n",
    "        for j in range(len(B[0])):\n",
    "            for k in range(len(B)):\n",
    "                result[i][j] += A[i][k] * B[k][j]\n",
    "    return result\n",
    "\n",
    "## tests\n",
    "A = [[2, 3, 4], [6, 4, 2], [-1, 2, 0]]\n",
    "B = [[8, -3, 1], [-7, 3, 2], [0, 3, 3]]\n",
    "print(matrix_multiplication(A, B))"
   ]
  },
  {
   "cell_type": "code",
   "execution_count": null,
   "metadata": {},
   "outputs": [],
   "source": []
  }
 ],
 "metadata": {
  "kernelspec": {
   "display_name": "Python 3",
   "language": "python",
   "name": "python3"
  },
  "language_info": {
   "codemirror_mode": {
    "name": "ipython",
    "version": 3
   },
   "file_extension": ".py",
   "mimetype": "text/x-python",
   "name": "python",
   "nbconvert_exporter": "python",
   "pygments_lexer": "ipython3",
   "version": "3.5.2"
  }
 },
 "nbformat": 4,
 "nbformat_minor": 2
}
